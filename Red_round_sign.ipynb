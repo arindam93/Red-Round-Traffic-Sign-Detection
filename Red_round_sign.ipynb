{
 "cells": [
  {
   "cell_type": "code",
   "execution_count": 1,
   "metadata": {
    "collapsed": true
   },
   "outputs": [],
   "source": [
    "import numpy as np\n",
    "import pandas as pd\n",
    "import matplotlib.pyplot as plt\n",
    "import matplotlib.transforms as transforms\n",
    "import tensorflow as tf\n",
    "import shutil\n",
    "import os\n",
    "os.getcwd()\n",
    "from sklearn.model_selection import train_test_split\n",
    "from sklearn import preprocessing\n",
    "from PIL import Image, ImageOps, ImageFilter\n",
    "\n",
    "%matplotlib inline"
   ]
  },
  {
   "cell_type": "code",
   "execution_count": 3,
   "metadata": {},
   "outputs": [
    {
     "name": "stdout",
     "output_type": "stream",
     "text": [
      "(1213, 6)\n",
      "Data has image files with traffic signs numbers: 741\n",
      "Data has traffic signs class numbers: 43\n",
      "Data has traffic signs instance numbers: 1213\n"
     ]
    }
   ],
   "source": [
    "## read the data\n",
    "data = pd.read_csv('jpg_FullIJCNN2013/gt.txt', sep=\";\", header=None)\n",
    "data.columns = [\"img\", \"x1\", \"y1\", \"x2\", \"y2\", \"id\"]\n",
    "\n",
    "print data.shape\n",
    "tmp = data.copy()\n",
    "\n",
    "print \"Data has image files with traffic signs numbers:\", len(data['img'].unique())\n",
    "print \"Data has traffic signs class numbers:\", len(data['id'].unique())\n",
    "print \"Data has traffic signs instance numbers:\", data['id'].count()\n",
    "\n",
    "# print(pd.value_counts(data['id'], sort=True))\n",
    "# data['id'].hist(bins=86)"
   ]
  },
  {
   "cell_type": "code",
   "execution_count": null,
   "metadata": {},
   "outputs": [
    {
     "name": "stderr",
     "output_type": "stream",
     "text": [
      "/Users/arindam93/anaconda2/lib/python2.7/site-packages/ipykernel_launcher.py:2: SettingWithCopyWarning: \n",
      "A value is trying to be set on a copy of a slice from a DataFrame\n",
      "\n",
      "See the caveats in the documentation: http://pandas.pydata.org/pandas-docs/stable/indexing.html#indexing-view-versus-copy\n",
      "  \n"
     ]
    }
   ],
   "source": [
    "for i in range(data.shape[0]):\n",
    "    data['img'][i] = data['img'].iloc[i].replace('ppm','jpg')\n"
   ]
  },
  {
   "cell_type": "code",
   "execution_count": 3,
   "metadata": {},
   "outputs": [
    {
     "name": "stdout",
     "output_type": "stream",
     "text": [
      "         img   x1   y1    x2   y2  id\n",
      "0  00000.ppm  774  411   815  446  11\n",
      "1  00001.ppm  983  388  1024  432  40\n",
      "2  00001.ppm  386  494   442  552  38\n",
      "3  00001.ppm  973  335  1031  390  13\n",
      "4  00002.ppm  892  476  1006  592  39\n"
     ]
    }
   ],
   "source": [
    "print data.head()"
   ]
  },
  {
   "cell_type": "code",
   "execution_count": 325,
   "metadata": {
    "collapsed": true
   },
   "outputs": [],
   "source": [
    "## Uncomment this cell if you don't have the directory containing the images in JPEG format\n",
    "\n",
    "\n",
    "# train_img_dir = 'FullIJCNN2013'\n",
    "# png_img_dir = 'jpg_FullIJCNN2013'\n",
    "\n",
    "\n",
    "# if os.path.exists(png_img_dir):\n",
    "#     shutil.rmtree(png_img_dir)\n",
    "# os.makedirs(png_img_dir) \n",
    "\n",
    "# for img_name in os.listdir(train_img_dir):\n",
    "# #for img_name in [\"00000.ppm\",\"00001.ppm\",\"00002.ppm\"]:\n",
    "#     if img_name[-3:] == \"ppm\":\n",
    "#         img_path = os.path.join(train_img_dir, img_name)\n",
    "#         img = Image.open(img_path)\n",
    "#         png_path = os.path.join(png_img_dir, img_name[:-3]+'jpg')\n",
    "#         print(png_path)\n",
    "#         img.save(png_path)\n",
    "#         #img.show()"
   ]
  },
  {
   "cell_type": "code",
   "execution_count": 4,
   "metadata": {},
   "outputs": [
    {
     "name": "stdout",
     "output_type": "stream",
     "text": [
      "0    656\n",
      "1    557\n",
      "Name: id, dtype: int64\n"
     ]
    },
    {
     "data": {
      "image/png": "[encoded data removed]",
      "text/plain": [
       "<matplotlib.figure.Figure at 0x117c91f90>"
      ]
     },
     "metadata": {},
     "output_type": "display_data"
    }
   ],
   "source": [
    "\n",
    "red_round_labels = [0,1,2,3,4,5,7,8,9,10,15,16]   ## prohibitory classes\n",
    "\n",
    "data['id'] = np.where(tmp['id'].isin(red_round_labels), 1, 0)\n",
    "print data['id'].value_counts()\n",
    "data['id'].hist()\n",
    "\n",
    "labels = data['id'].values\n",
    "full_data = data.drop('id',1)\n"
   ]
  },
  {
   "cell_type": "code",
   "execution_count": 78,
   "metadata": {
    "collapsed": true
   },
   "outputs": [],
   "source": [
    "\n",
    "x_train, x_test, y_train, y_test = train_test_split(full_data, labels, test_size=0.2, random_state=42)\n",
    "scaler = preprocessing.MinMaxScaler()\n",
    "\n",
    "train_data = []\n",
    "test_data = []\n",
    "\n",
    "data_dir = 'jpg_FullIJCNN2013'\n",
    "\n",
    "for i in range(x_train.shape[0]): \n",
    "    curr_im = os.path.join(data_dir, x_train['img'].iloc[i])\n",
    "    img = Image.open(curr_im)\n",
    "    cropped_rect = (x_train['x1'].iloc[i], x_train['y1'].iloc[i], x_train['x2'].iloc[i], x_train['y2'].iloc[i])\n",
    "    crop_im = img.crop(cropped_rect)\n",
    "    ## resize here to 48 x 48\n",
    "    crop_im = crop_im.resize((48, 48), Image.ANTIALIAS)\n",
    "    crop_im = ImageOps.autocontrast(crop_im)\n",
    "    train_data.append(np.array(crop_im))\n",
    "    \n",
    "\n",
    "for i in range(x_test.shape[0]): \n",
    "    curr_im = os.path.join(data_dir, x_test['img'].iloc[i])\n",
    "    img = Image.open(curr_im)\n",
    "    cropped_rect = (x_test['x1'].iloc[i], x_test['y1'].iloc[i], x_test['x2'].iloc[i], x_test['y2'].iloc[i])\n",
    "    crop_im = img.crop(cropped_rect)\n",
    "    ## resize here to 48 x 48\n",
    "    crop_im = crop_im.resize((48, 48), Image.ANTIALIAS)\n",
    "    crop_im = ImageOps.autocontrast(crop_im)\n",
    "    test_data.append(np.array(crop_im))\n",
    "    \n",
    "train_data = np.array(train_data)\n",
    "test_data = np.array(test_data)\n"
   ]
  },
  {
   "cell_type": "code",
   "execution_count": 79,
   "metadata": {},
   "outputs": [
    {
     "name": "stdout",
     "output_type": "stream",
     "text": [
      "(970, 48, 48, 3)\n",
      "(243, 48, 48, 3)\n"
     ]
    }
   ],
   "source": [
    "print train_data.shape\n",
    "print test_data.shape"
   ]
  },
  {
   "cell_type": "code",
   "execution_count": 86,
   "metadata": {},
   "outputs": [
    {
     "name": "stdout",
     "output_type": "stream",
     "text": [
      "(970, 2)\n",
      "(243, 2)\n"
     ]
    }
   ],
   "source": [
    "## one hot encoding of labels\n",
    "num_train = train_data.shape[0]  ## 970\n",
    "num_test = test_data.shape[0]    ## 243\n",
    "num_classes = 2\n",
    "\n",
    "train_label = np.zeros((num_train, num_classes), dtype=np.int8)   ## 970 x 2 \n",
    "test_label = np.zeros((num_test, num_classes), dtype=np.int8)     ## 243 x 2\n",
    "\n",
    "for i in range(num_train):\n",
    "    if y_train[i] == 1:   ## if the gt is red round sign\n",
    "        train_label[i][1] = 1\n",
    "    else:\n",
    "        train_label[i][0] = 1\n",
    "        \n",
    "for i in range(num_test):\n",
    "    if y_test[i] == 1:\n",
    "        test_label[i][1] = 1\n",
    "    else:\n",
    "        test_label[i][0] = 1\n",
    "        \n",
    "print train_label.shape\n",
    "print test_label.shape\n",
    "        "
   ]
  },
  {
   "cell_type": "code",
   "execution_count": 87,
   "metadata": {},
   "outputs": [
    {
     "name": "stdout",
     "output_type": "stream",
     "text": [
      "Number of red round signs in training data:  454\n",
      "Number of negatives in training data:  516\n"
     ]
    }
   ],
   "source": [
    "count = 0\n",
    "for i in range(len(y_train)):\n",
    "    if y_train[i] == 1:\n",
    "        count += 1\n",
    "\n",
    "print \"Number of red round signs in training data: \", count\n",
    "print \"Number of negatives in training data: \", num_train - count"
   ]
  },
  {
   "cell_type": "code",
   "execution_count": 88,
   "metadata": {
    "collapsed": true
   },
   "outputs": [],
   "source": [
    "## saving the training and testing data\n",
    "np.save('train_data.npy', train_data)\n",
    "np.save('test_data.npy', test_data)\n",
    "np.save('train_labels.npy', train_label)\n",
    "np.save('test_labels.npy', test_label)"
   ]
  },
  {
   "cell_type": "markdown",
   "metadata": {},
   "source": [
    "## Instantiate, Train and Test the CNN model"
   ]
  },
  {
   "cell_type": "code",
   "execution_count": 5,
   "metadata": {
    "collapsed": true
   },
   "outputs": [],
   "source": [
    "## load the saved data\n",
    "train_data = np.load('train_data.npy')\n",
    "train_labels = np.load('train_labels.npy')\n",
    "test_data = np.load('test_data.npy')\n",
    "test_labels = np.load('test_labels.npy')\n"
   ]
  },
  {
   "cell_type": "code",
   "execution_count": 6,
   "metadata": {},
   "outputs": [
    {
     "name": "stdout",
     "output_type": "stream",
     "text": [
      "(776, 48, 48, 3)\n",
      "(194, 48, 48, 3)\n"
     ]
    }
   ],
   "source": [
    "train_data, val_data, train_labels, val_labels = train_test_split(train_data, train_labels, test_size=0.2, random_state=42)\n",
    "\n",
    "print train_data.shape\n",
    "print val_data.shape"
   ]
  },
  {
   "cell_type": "code",
   "execution_count": 7,
   "metadata": {
    "collapsed": true
   },
   "outputs": [],
   "source": [
    "## batch loader\n",
    "epochs_completed = 0\n",
    "idx_epoch = 0\n",
    "num_train = train_data.shape[0]  ## 776\n",
    "\n",
    "def get_next_batch(train_data, train_labels, batch_size=8):\n",
    "    \n",
    "    global idx_epoch\n",
    "    global epochs_completed\n",
    "    \n",
    "    start = idx_epoch\n",
    "    idx_epoch = idx_epoch + batch_size\n",
    "    \n",
    "    if idx_epoch > num_train:\n",
    "        epochs_completed += 1\n",
    "        print \"Epochs completed: \", epochs_completed\n",
    "        print\n",
    "        perm = np.arange(num_train)\n",
    "        np.random.shuffle(perm)\n",
    "        train_images = train_data[perm]\n",
    "        train_labels = train_labels[perm]\n",
    "        \n",
    "        start = 0\n",
    "        idx_epoch = batch_size\n",
    "        assert batch_size <= num_train\n",
    "    \n",
    "    end = idx_epoch\n",
    "    return train_data[start:end], train_labels[start:end]\n",
    "    "
   ]
  },
  {
   "cell_type": "code",
   "execution_count": 466,
   "metadata": {
    "collapsed": true
   },
   "outputs": [],
   "source": [
    "## training parameters\n",
    "learning_rate = 0.0001\n",
    "num_steps = 1500\n",
    "batch_size = 12\n",
    "display_step = 10\n",
    "\n",
    "## network params\n",
    "input_height = 48\n",
    "input_width = 48\n",
    "num_channels = 3\n",
    "dropout = 0.5\n",
    "\n",
    "## create wrappers\n",
    "def weight_init(shape):\n",
    "    \n",
    "    initializer = tf.contrib.layers.xavier_initializer()\n",
    "    return initializer(shape)\n",
    "#     return tf.random_normal(shape)\n",
    "\n",
    "def conv2d(x, W, b, strides=1):\n",
    "    p = tf.nn.conv2d(x, W, strides=[1, strides, strides, 1], padding='SAME')\n",
    "    p = tf.nn.bias_add(p, b)\n",
    "    return tf.nn.relu(p)\n",
    "\n",
    "\n",
    "def maxpool2d(x, k=2):\n",
    "    return tf.nn.max_pool(x, ksize=[1,k,k,1], strides=[1,k,k,1], padding='SAME')\n",
    "\n",
    "\n",
    "weights = {\n",
    "    'wc1': tf.Variable(weight_init([3, 3, 3, 16])),\n",
    "    'wc2': tf.Variable(weight_init([3, 3, 16, 32])),\n",
    "    'wd1': tf.Variable(weight_init([12 * 12 * 32, 256])),\n",
    "    'out': tf.Variable(weight_init([256, num_classes]))\n",
    "}\n",
    "\n",
    "biases = {\n",
    "    'bc1': tf.Variable(weight_init([16])),\n",
    "    'bc2': tf.Variable(weight_init([32])),\n",
    "    'bd1': tf.Variable(weight_init([256])),\n",
    "    'out': tf.Variable(weight_init([num_classes]))\n",
    "}\n",
    "\n",
    "\n",
    "## placeholders\n",
    "x = tf.placeholder(tf.float32, shape=[None, input_height, input_width, num_channels])\n",
    "y = tf.placeholder(tf.float32, shape=[None, num_classes])\n",
    "keep_prob = tf.placeholder(tf.float32)"
   ]
  },
  {
   "cell_type": "code",
   "execution_count": 467,
   "metadata": {
    "collapsed": true
   },
   "outputs": [],
   "source": [
    "## define the network\n",
    "\n",
    "def conv_net(x, weights, biases, dropout):\n",
    "    \n",
    "    # Tensor input is 4-D: [Batch Size, Height, Width, Channel]\n",
    "    \n",
    "    conv1 = conv2d(x, weights['wc1'], biases['bc1'])\n",
    "    batch_m1, batch_var1 = tf.nn.moments(conv1,[0])\n",
    "    conv1 = tf.nn.batch_normalization(conv1, batch_m1, batch_var1, variance_epsilon=1e-3, offset=None, scale=None)\n",
    "    conv1 = maxpool2d(conv1)\n",
    "    \n",
    "    conv2 = conv2d(conv1, weights['wc2'], biases['bc2'])\n",
    "    batch_m2, batch_var2 = tf.nn.moments(conv2,[0])\n",
    "    conv2 = tf.nn.batch_normalization(conv2, batch_m2, batch_var2, variance_epsilon=1e-3, offset=None, scale=None)\n",
    "    conv2 = maxpool2d(conv2)\n",
    "    \n",
    "    ## fully connected layer\n",
    "    ## reshape output of conv2 to fit FC layer\n",
    "    fc1 = tf.reshape(conv2, [-1, weights['wd1'].get_shape().as_list()[0]])\n",
    "    fc1 = tf.add(tf.matmul(fc1, weights['wd1']), biases['bd1'])\n",
    "    fc1 = tf.nn.relu(fc1)\n",
    "    \n",
    "    ## apply dropout\n",
    "    fc1 = tf.nn.dropout(fc1, dropout)\n",
    "    \n",
    "    out = tf.add(tf.matmul(fc1, weights['out']), biases['out'])\n",
    "    return out"
   ]
  },
  {
   "cell_type": "code",
   "execution_count": 468,
   "metadata": {
    "collapsed": true
   },
   "outputs": [],
   "source": [
    "logits = conv_net(x, weights, biases, keep_prob)\n",
    "predictions = tf.nn.softmax(logits)\n",
    "\n",
    "loss_op = tf.reduce_mean(tf.nn.softmax_cross_entropy_with_logits_v2(logits=logits, labels=y))\n",
    "optim = tf.train.GradientDescentOptimizer(learning_rate=learning_rate).minimize(loss_op)\n",
    "\n",
    "correct_pred = tf.equal(tf.argmax(predictions, 1), tf.argmax(y, 1))\n",
    "accuracy = tf.reduce_mean(tf.cast(correct_pred, tf.float32))\n",
    "\n",
    "init = tf.global_variables_initializer()"
   ]
  },
  {
   "cell_type": "code",
   "execution_count": 469,
   "metadata": {
    "collapsed": true
   },
   "outputs": [],
   "source": [
    "from imgaug import augmenters as iaa\n",
    "import imgaug as ia\n",
    "\n",
    "seq = iaa.Sequential([\n",
    "    iaa.Fliplr(0.5), # horizontally flip 50% of the images\n",
    "    iaa.Flipud(0.2),\n",
    "    iaa.GaussianBlur(sigma=(0, 3.0)), # blur images with a sigma of 0 to 3.0\n",
    "    \n",
    "])"
   ]
  },
  {
   "cell_type": "code",
   "execution_count": 470,
   "metadata": {},
   "outputs": [
    {
     "name": "stdout",
     "output_type": "stream",
     "text": [
      "Step 1, Train Loss= 1.3675, Training Accuracy= 0.535, Validation Loss= 1.0707, Validation Accuracy= 0.562\n",
      "Step 10, Train Loss= 1.2074, Training Accuracy= 0.571, Validation Loss= 0.9535, Validation Accuracy= 0.613\n",
      "Step 20, Train Loss= 1.1093, Training Accuracy= 0.591, Validation Loss= 0.8583, Validation Accuracy= 0.644\n",
      "Step 30, Train Loss= 1.0319, Training Accuracy= 0.608, Validation Loss= 0.7781, Validation Accuracy= 0.670\n",
      "Step 40, Train Loss= 0.9881, Training Accuracy= 0.616, Validation Loss= 0.7162, Validation Accuracy= 0.727\n",
      "Step 50, Train Loss= 0.9198, Training Accuracy= 0.640, Validation Loss= 0.6786, Validation Accuracy= 0.706\n",
      "Step 60, Train Loss= 0.8745, Training Accuracy= 0.647, Validation Loss= 0.6127, Validation Accuracy= 0.732\n",
      "Epochs completed:  1\n",
      "\n",
      "Step 70, Train Loss= 0.8407, Training Accuracy= 0.661, Validation Loss= 0.5903, Validation Accuracy= 0.747\n",
      "Step 80, Train Loss= 0.7996, Training Accuracy= 0.673, Validation Loss= 0.5466, Validation Accuracy= 0.763\n",
      "Step 90, Train Loss= 0.7762, Training Accuracy= 0.689, Validation Loss= 0.5223, Validation Accuracy= 0.763\n",
      "Step 100, Train Loss= 0.7573, Training Accuracy= 0.702, Validation Loss= 0.5119, Validation Accuracy= 0.773\n",
      "Step 110, Train Loss= 0.7282, Training Accuracy= 0.713, Validation Loss= 0.4849, Validation Accuracy= 0.784\n",
      "Step 120, Train Loss= 0.6925, Training Accuracy= 0.724, Validation Loss= 0.4607, Validation Accuracy= 0.778\n",
      "Epochs completed:  2\n",
      "\n",
      "Step 130, Train Loss= 0.6669, Training Accuracy= 0.735, Validation Loss= 0.4432, Validation Accuracy= 0.789\n",
      "Step 140, Train Loss= 0.6421, Training Accuracy= 0.735, Validation Loss= 0.4337, Validation Accuracy= 0.814\n",
      "Step 150, Train Loss= 0.6052, Training Accuracy= 0.754, Validation Loss= 0.3987, Validation Accuracy= 0.825\n",
      "Step 160, Train Loss= 0.5924, Training Accuracy= 0.765, Validation Loss= 0.4039, Validation Accuracy= 0.825\n",
      "Step 170, Train Loss= 0.5721, Training Accuracy= 0.771, Validation Loss= 0.3916, Validation Accuracy= 0.814\n",
      "Step 180, Train Loss= 0.5563, Training Accuracy= 0.773, Validation Loss= 0.3767, Validation Accuracy= 0.830\n",
      "Step 190, Train Loss= 0.5418, Training Accuracy= 0.782, Validation Loss= 0.3581, Validation Accuracy= 0.830\n",
      "Epochs completed:  3\n",
      "\n",
      "Step 200, Train Loss= 0.5271, Training Accuracy= 0.789, Validation Loss= 0.3502, Validation Accuracy= 0.845\n",
      "Step 210, Train Loss= 0.5004, Training Accuracy= 0.791, Validation Loss= 0.3091, Validation Accuracy= 0.840\n",
      "Step 220, Train Loss= 0.5011, Training Accuracy= 0.805, Validation Loss= 0.3301, Validation Accuracy= 0.851\n",
      "Step 230, Train Loss= 0.4860, Training Accuracy= 0.805, Validation Loss= 0.3098, Validation Accuracy= 0.861\n",
      "Step 240, Train Loss= 0.4797, Training Accuracy= 0.802, Validation Loss= 0.3123, Validation Accuracy= 0.856\n",
      "Step 250, Train Loss= 0.4713, Training Accuracy= 0.809, Validation Loss= 0.3001, Validation Accuracy= 0.866\n",
      "Epochs completed:  4\n",
      "\n",
      "Step 260, Train Loss= 0.4579, Training Accuracy= 0.820, Validation Loss= 0.2885, Validation Accuracy= 0.871\n",
      "Step 270, Train Loss= 0.4602, Training Accuracy= 0.811, Validation Loss= 0.2802, Validation Accuracy= 0.887\n",
      "Step 280, Train Loss= 0.4466, Training Accuracy= 0.820, Validation Loss= 0.2844, Validation Accuracy= 0.881\n",
      "Step 290, Train Loss= 0.4322, Training Accuracy= 0.825, Validation Loss= 0.2749, Validation Accuracy= 0.871\n",
      "Step 300, Train Loss= 0.4179, Training Accuracy= 0.839, Validation Loss= 0.2740, Validation Accuracy= 0.871\n",
      "Step 310, Train Loss= 0.4244, Training Accuracy= 0.830, Validation Loss= 0.2763, Validation Accuracy= 0.871\n",
      "Step 320, Train Loss= 0.4106, Training Accuracy= 0.834, Validation Loss= 0.2646, Validation Accuracy= 0.876\n",
      "Epochs completed:  5\n",
      "\n",
      "Step 330, Train Loss= 0.3988, Training Accuracy= 0.838, Validation Loss= 0.2596, Validation Accuracy= 0.892\n",
      "Step 340, Train Loss= 0.4066, Training Accuracy= 0.834, Validation Loss= 0.2531, Validation Accuracy= 0.897\n",
      "Step 350, Train Loss= 0.4027, Training Accuracy= 0.830, Validation Loss= 0.2487, Validation Accuracy= 0.897\n",
      "Step 360, Train Loss= 0.3888, Training Accuracy= 0.839, Validation Loss= 0.2489, Validation Accuracy= 0.902\n",
      "Step 370, Train Loss= 0.3695, Training Accuracy= 0.853, Validation Loss= 0.2445, Validation Accuracy= 0.897\n",
      "Step 380, Train Loss= 0.3725, Training Accuracy= 0.841, Validation Loss= 0.2390, Validation Accuracy= 0.923\n",
      "Epochs completed:  6\n",
      "\n",
      "Step 390, Train Loss= 0.3667, Training Accuracy= 0.845, Validation Loss= 0.2351, Validation Accuracy= 0.928\n",
      "Step 400, Train Loss= 0.3665, Training Accuracy= 0.851, Validation Loss= 0.2259, Validation Accuracy= 0.923\n",
      "Step 410, Train Loss= 0.3532, Training Accuracy= 0.851, Validation Loss= 0.2332, Validation Accuracy= 0.907\n",
      "Step 420, Train Loss= 0.3486, Training Accuracy= 0.857, Validation Loss= 0.2441, Validation Accuracy= 0.897\n",
      "Step 430, Train Loss= 0.3501, Training Accuracy= 0.857, Validation Loss= 0.2309, Validation Accuracy= 0.897\n",
      "Step 440, Train Loss= 0.3443, Training Accuracy= 0.853, Validation Loss= 0.2287, Validation Accuracy= 0.918\n",
      "Epochs completed:  7\n",
      "\n",
      "Step 450, Train Loss= 0.3390, Training Accuracy= 0.853, Validation Loss= 0.2264, Validation Accuracy= 0.918\n",
      "Step 460, Train Loss= 0.3159, Training Accuracy= 0.865, Validation Loss= 0.2179, Validation Accuracy= 0.923\n",
      "Step 470, Train Loss= 0.3120, Training Accuracy= 0.867, Validation Loss= 0.2118, Validation Accuracy= 0.923\n",
      "Step 480, Train Loss= 0.3078, Training Accuracy= 0.880, Validation Loss= 0.2236, Validation Accuracy= 0.907\n",
      "Step 490, Train Loss= 0.2980, Training Accuracy= 0.876, Validation Loss= 0.2191, Validation Accuracy= 0.912\n",
      "Step 500, Train Loss= 0.2942, Training Accuracy= 0.880, Validation Loss= 0.2126, Validation Accuracy= 0.912\n",
      "Step 510, Train Loss= 0.2921, Training Accuracy= 0.883, Validation Loss= 0.2171, Validation Accuracy= 0.907\n",
      "Epochs completed:  8\n",
      "\n",
      "Step 520, Train Loss= 0.2858, Training Accuracy= 0.887, Validation Loss= 0.2020, Validation Accuracy= 0.918\n",
      "Step 530, Train Loss= 0.2817, Training Accuracy= 0.884, Validation Loss= 0.2006, Validation Accuracy= 0.918\n",
      "Step 540, Train Loss= 0.2768, Training Accuracy= 0.888, Validation Loss= 0.1951, Validation Accuracy= 0.923\n",
      "Step 550, Train Loss= 0.2845, Training Accuracy= 0.885, Validation Loss= 0.1860, Validation Accuracy= 0.933\n",
      "Step 560, Train Loss= 0.2854, Training Accuracy= 0.887, Validation Loss= 0.1796, Validation Accuracy= 0.933\n",
      "Step 570, Train Loss= 0.2854, Training Accuracy= 0.884, Validation Loss= 0.1807, Validation Accuracy= 0.928\n",
      "Epochs completed:  9\n",
      "\n",
      "Step 580, Train Loss= 0.2816, Training Accuracy= 0.883, Validation Loss= 0.1813, Validation Accuracy= 0.928\n",
      "Step 590, Train Loss= 0.2803, Training Accuracy= 0.885, Validation Loss= 0.1746, Validation Accuracy= 0.938\n",
      "Step 600, Train Loss= 0.2783, Training Accuracy= 0.890, Validation Loss= 0.1729, Validation Accuracy= 0.923\n",
      "Step 610, Train Loss= 0.2798, Training Accuracy= 0.887, Validation Loss= 0.1808, Validation Accuracy= 0.907\n",
      "Step 620, Train Loss= 0.2794, Training Accuracy= 0.883, Validation Loss= 0.1921, Validation Accuracy= 0.897\n",
      "Step 630, Train Loss= 0.2723, Training Accuracy= 0.881, Validation Loss= 0.1781, Validation Accuracy= 0.928\n",
      "Step 640, Train Loss= 0.2659, Training Accuracy= 0.888, Validation Loss= 0.1719, Validation Accuracy= 0.923\n",
      "Epochs completed:  10\n",
      "\n",
      "Step 650, Train Loss= 0.2645, Training Accuracy= 0.898, Validation Loss= 0.1627, Validation Accuracy= 0.923\n",
      "Step 660, Train Loss= 0.2544, Training Accuracy= 0.897, Validation Loss= 0.1614, Validation Accuracy= 0.923\n",
      "Step 670, Train Loss= 0.2551, Training Accuracy= 0.897, Validation Loss= 0.1561, Validation Accuracy= 0.933\n",
      "Step 680, Train Loss= 0.2515, Training Accuracy= 0.903, Validation Loss= 0.1501, Validation Accuracy= 0.938\n",
      "Step 690, Train Loss= 0.2502, Training Accuracy= 0.901, Validation Loss= 0.1518, Validation Accuracy= 0.933\n",
      "Step 700, Train Loss= 0.2423, Training Accuracy= 0.905, Validation Loss= 0.1524, Validation Accuracy= 0.933\n",
      "Epochs completed:  11\n",
      "\n",
      "Step 710, Train Loss= 0.2375, Training Accuracy= 0.905, Validation Loss= 0.1529, Validation Accuracy= 0.954\n",
      "Step 720, Train Loss= 0.2335, Training Accuracy= 0.902, Validation Loss= 0.1559, Validation Accuracy= 0.938\n",
      "Step 730, Train Loss= 0.2293, Training Accuracy= 0.909, Validation Loss= 0.1494, Validation Accuracy= 0.948\n"
     ]
    },
    {
     "name": "stdout",
     "output_type": "stream",
     "text": [
      "Step 740, Train Loss= 0.2244, Training Accuracy= 0.902, Validation Loss= 0.1557, Validation Accuracy= 0.948\n",
      "Step 750, Train Loss= 0.2245, Training Accuracy= 0.905, Validation Loss= 0.1580, Validation Accuracy= 0.948\n",
      "Step 760, Train Loss= 0.2298, Training Accuracy= 0.911, Validation Loss= 0.1534, Validation Accuracy= 0.923\n",
      "Epochs completed:  12\n",
      "\n",
      "Step 770, Train Loss= 0.2279, Training Accuracy= 0.911, Validation Loss= 0.1506, Validation Accuracy= 0.928\n",
      "Step 780, Train Loss= 0.2237, Training Accuracy= 0.915, Validation Loss= 0.1471, Validation Accuracy= 0.943\n",
      "Step 790, Train Loss= 0.2196, Training Accuracy= 0.915, Validation Loss= 0.1444, Validation Accuracy= 0.938\n",
      "Step 800, Train Loss= 0.2204, Training Accuracy= 0.910, Validation Loss= 0.1418, Validation Accuracy= 0.943\n",
      "Step 810, Train Loss= 0.2194, Training Accuracy= 0.911, Validation Loss= 0.1318, Validation Accuracy= 0.954\n",
      "Step 820, Train Loss= 0.2137, Training Accuracy= 0.915, Validation Loss= 0.1320, Validation Accuracy= 0.959\n",
      "Step 830, Train Loss= 0.2158, Training Accuracy= 0.914, Validation Loss= 0.1345, Validation Accuracy= 0.943\n",
      "Epochs completed:  13\n",
      "\n",
      "Step 840, Train Loss= 0.2134, Training Accuracy= 0.914, Validation Loss= 0.1336, Validation Accuracy= 0.954\n",
      "Step 850, Train Loss= 0.2108, Training Accuracy= 0.910, Validation Loss= 0.1248, Validation Accuracy= 0.948\n",
      "Step 860, Train Loss= 0.2150, Training Accuracy= 0.915, Validation Loss= 0.1290, Validation Accuracy= 0.938\n",
      "Step 870, Train Loss= 0.2002, Training Accuracy= 0.919, Validation Loss= 0.1428, Validation Accuracy= 0.943\n",
      "Step 880, Train Loss= 0.1941, Training Accuracy= 0.919, Validation Loss= 0.1341, Validation Accuracy= 0.948\n",
      "Step 890, Train Loss= 0.1930, Training Accuracy= 0.914, Validation Loss= 0.1335, Validation Accuracy= 0.943\n",
      "Epochs completed:  14\n",
      "\n",
      "Step 900, Train Loss= 0.1900, Training Accuracy= 0.918, Validation Loss= 0.1308, Validation Accuracy= 0.943\n",
      "Step 910, Train Loss= 0.1912, Training Accuracy= 0.921, Validation Loss= 0.1309, Validation Accuracy= 0.948\n",
      "Step 920, Train Loss= 0.1946, Training Accuracy= 0.919, Validation Loss= 0.1245, Validation Accuracy= 0.948\n",
      "Step 930, Train Loss= 0.1931, Training Accuracy= 0.916, Validation Loss= 0.1288, Validation Accuracy= 0.948\n",
      "Step 940, Train Loss= 0.1875, Training Accuracy= 0.919, Validation Loss= 0.1344, Validation Accuracy= 0.954\n",
      "Step 950, Train Loss= 0.1873, Training Accuracy= 0.918, Validation Loss= 0.1308, Validation Accuracy= 0.948\n",
      "Step 960, Train Loss= 0.1851, Training Accuracy= 0.919, Validation Loss= 0.1326, Validation Accuracy= 0.948\n",
      "Epochs completed:  15\n",
      "\n",
      "Step 970, Train Loss= 0.1844, Training Accuracy= 0.923, Validation Loss= 0.1263, Validation Accuracy= 0.943\n",
      "Step 980, Train Loss= 0.1844, Training Accuracy= 0.923, Validation Loss= 0.1240, Validation Accuracy= 0.943\n",
      "Step 990, Train Loss= 0.1882, Training Accuracy= 0.928, Validation Loss= 0.1156, Validation Accuracy= 0.943\n",
      "Step 1000, Train Loss= 0.1869, Training Accuracy= 0.928, Validation Loss= 0.1153, Validation Accuracy= 0.948\n",
      "Step 1010, Train Loss= 0.1888, Training Accuracy= 0.932, Validation Loss= 0.1132, Validation Accuracy= 0.943\n",
      "Step 1020, Train Loss= 0.1880, Training Accuracy= 0.927, Validation Loss= 0.1135, Validation Accuracy= 0.954\n",
      "Epochs completed:  16\n",
      "\n",
      "Step 1030, Train Loss= 0.1788, Training Accuracy= 0.934, Validation Loss= 0.1150, Validation Accuracy= 0.943\n",
      "Step 1040, Train Loss= 0.1785, Training Accuracy= 0.936, Validation Loss= 0.1140, Validation Accuracy= 0.943\n",
      "Step 1050, Train Loss= 0.1753, Training Accuracy= 0.933, Validation Loss= 0.1128, Validation Accuracy= 0.943\n",
      "Step 1060, Train Loss= 0.1821, Training Accuracy= 0.930, Validation Loss= 0.1124, Validation Accuracy= 0.948\n",
      "Step 1070, Train Loss= 0.1780, Training Accuracy= 0.936, Validation Loss= 0.1078, Validation Accuracy= 0.948\n",
      "Step 1080, Train Loss= 0.1784, Training Accuracy= 0.934, Validation Loss= 0.1136, Validation Accuracy= 0.964\n",
      "Epochs completed:  17\n",
      "\n",
      "Step 1090, Train Loss= 0.1748, Training Accuracy= 0.937, Validation Loss= 0.1146, Validation Accuracy= 0.948\n",
      "Step 1100, Train Loss= 0.1756, Training Accuracy= 0.937, Validation Loss= 0.1158, Validation Accuracy= 0.954\n",
      "Step 1110, Train Loss= 0.1710, Training Accuracy= 0.941, Validation Loss= 0.1123, Validation Accuracy= 0.959\n",
      "Step 1120, Train Loss= 0.1661, Training Accuracy= 0.934, Validation Loss= 0.1191, Validation Accuracy= 0.954\n",
      "Step 1130, Train Loss= 0.1578, Training Accuracy= 0.939, Validation Loss= 0.1213, Validation Accuracy= 0.959\n",
      "Step 1140, Train Loss= 0.1574, Training Accuracy= 0.939, Validation Loss= 0.1214, Validation Accuracy= 0.959\n",
      "Step 1150, Train Loss= 0.1543, Training Accuracy= 0.941, Validation Loss= 0.1205, Validation Accuracy= 0.959\n",
      "Epochs completed:  18\n",
      "\n",
      "Step 1160, Train Loss= 0.1541, Training Accuracy= 0.943, Validation Loss= 0.1193, Validation Accuracy= 0.959\n",
      "Step 1170, Train Loss= 0.1515, Training Accuracy= 0.941, Validation Loss= 0.1154, Validation Accuracy= 0.954\n",
      "Step 1180, Train Loss= 0.1501, Training Accuracy= 0.938, Validation Loss= 0.1178, Validation Accuracy= 0.959\n",
      "Step 1190, Train Loss= 0.1495, Training Accuracy= 0.938, Validation Loss= 0.1162, Validation Accuracy= 0.964\n",
      "Step 1200, Train Loss= 0.1516, Training Accuracy= 0.938, Validation Loss= 0.1211, Validation Accuracy= 0.954\n",
      "Step 1210, Train Loss= 0.1504, Training Accuracy= 0.938, Validation Loss= 0.1176, Validation Accuracy= 0.959\n",
      "Epochs completed:  19\n",
      "\n",
      "Step 1220, Train Loss= 0.1529, Training Accuracy= 0.939, Validation Loss= 0.1103, Validation Accuracy= 0.959\n",
      "Step 1230, Train Loss= 0.1511, Training Accuracy= 0.939, Validation Loss= 0.1102, Validation Accuracy= 0.959\n",
      "Step 1240, Train Loss= 0.1504, Training Accuracy= 0.938, Validation Loss= 0.1088, Validation Accuracy= 0.964\n",
      "Step 1250, Train Loss= 0.1469, Training Accuracy= 0.941, Validation Loss= 0.1032, Validation Accuracy= 0.964\n",
      "Step 1260, Train Loss= 0.1454, Training Accuracy= 0.942, Validation Loss= 0.1027, Validation Accuracy= 0.964\n",
      "Step 1270, Train Loss= 0.1480, Training Accuracy= 0.936, Validation Loss= 0.1046, Validation Accuracy= 0.964\n",
      "Step 1280, Train Loss= 0.1462, Training Accuracy= 0.939, Validation Loss= 0.1002, Validation Accuracy= 0.964\n",
      "Epochs completed:  20\n",
      "\n",
      "Step 1290, Train Loss= 0.1425, Training Accuracy= 0.942, Validation Loss= 0.0970, Validation Accuracy= 0.964\n",
      "Step 1300, Train Loss= 0.1371, Training Accuracy= 0.939, Validation Loss= 0.0825, Validation Accuracy= 0.974\n",
      "Step 1310, Train Loss= 0.1366, Training Accuracy= 0.943, Validation Loss= 0.0832, Validation Accuracy= 0.974\n",
      "Step 1320, Train Loss= 0.1324, Training Accuracy= 0.946, Validation Loss= 0.0808, Validation Accuracy= 0.974\n",
      "Step 1330, Train Loss= 0.1341, Training Accuracy= 0.945, Validation Loss= 0.0811, Validation Accuracy= 0.974\n",
      "Step 1340, Train Loss= 0.1293, Training Accuracy= 0.948, Validation Loss= 0.0785, Validation Accuracy= 0.974\n",
      "Epochs completed:  21\n",
      "\n",
      "Step 1350, Train Loss= 0.1298, Training Accuracy= 0.952, Validation Loss= 0.0766, Validation Accuracy= 0.974\n",
      "Step 1360, Train Loss= 0.1285, Training Accuracy= 0.950, Validation Loss= 0.0761, Validation Accuracy= 0.974\n",
      "Step 1370, Train Loss= 0.1265, Training Accuracy= 0.948, Validation Loss= 0.0747, Validation Accuracy= 0.979\n",
      "Step 1380, Train Loss= 0.1252, Training Accuracy= 0.951, Validation Loss= 0.0718, Validation Accuracy= 0.974\n",
      "Step 1390, Train Loss= 0.1234, Training Accuracy= 0.951, Validation Loss= 0.0712, Validation Accuracy= 0.979\n",
      "Step 1400, Train Loss= 0.1239, Training Accuracy= 0.954, Validation Loss= 0.0721, Validation Accuracy= 0.979\n",
      "Epochs completed:  22\n",
      "\n",
      "Step 1410, Train Loss= 0.1246, Training Accuracy= 0.952, Validation Loss= 0.0723, Validation Accuracy= 0.979\n",
      "Step 1420, Train Loss= 0.1244, Training Accuracy= 0.954, Validation Loss= 0.0755, Validation Accuracy= 0.974\n",
      "Step 1430, Train Loss= 0.1229, Training Accuracy= 0.955, Validation Loss= 0.0741, Validation Accuracy= 0.974\n",
      "Step 1440, Train Loss= 0.1222, Training Accuracy= 0.955, Validation Loss= 0.0742, Validation Accuracy= 0.979\n",
      "Step 1450, Train Loss= 0.1213, Training Accuracy= 0.956, Validation Loss= 0.0734, Validation Accuracy= 0.979\n",
      "Step 1460, Train Loss= 0.1195, Training Accuracy= 0.955, Validation Loss= 0.0725, Validation Accuracy= 0.979\n",
      "Step 1470, Train Loss= 0.1191, Training Accuracy= 0.956, Validation Loss= 0.0716, Validation Accuracy= 0.985\n",
      "Epochs completed:  23\n",
      "\n"
     ]
    },
    {
     "name": "stdout",
     "output_type": "stream",
     "text": [
      "Step 1480, Train Loss= 0.1216, Training Accuracy= 0.955, Validation Loss= 0.0717, Validation Accuracy= 0.985\n",
      "Step 1490, Train Loss= 0.1200, Training Accuracy= 0.951, Validation Loss= 0.0694, Validation Accuracy= 0.985\n",
      "Step 1500, Train Loss= 0.1187, Training Accuracy= 0.951, Validation Loss= 0.0693, Validation Accuracy= 0.985\n",
      "optimization done!\n",
      "\n",
      "Testing accuracy:  0.958848\n"
     ]
    }
   ],
   "source": [
    "train_loss = []\n",
    "val_loss = []\n",
    "train_accuracy = []\n",
    "val_accuracy = []\n",
    "\n",
    "patience_cnt = 0\n",
    "tol = 10\n",
    "\n",
    "\n",
    "with tf.Session() as sess:\n",
    "    \n",
    "    sess.run(init)\n",
    "    saver = tf.train.Saver()\n",
    "    \n",
    "    for step in xrange(1, num_steps+1):\n",
    "        \n",
    "        batch_x, batch_y = get_next_batch(train_data, train_labels, batch_size=batch_size)\n",
    "        batch_x = seq.augment_images(batch_x)\n",
    "        \n",
    "        sess.run(optim, feed_dict={x:batch_x, y:batch_y, keep_prob:dropout})\n",
    "        \n",
    "        if step % display_step == 0 or step == 1:\n",
    "            \n",
    "            loss_train, acc_train = sess.run([loss_op, accuracy], feed_dict={x: train_data, y: train_labels, keep_prob: 1.0})\n",
    "            loss_val, acc_val = sess.run([loss_op, accuracy], feed_dict={x: val_data, y: val_labels, keep_prob: 1.0})\n",
    "            \n",
    "            \n",
    "            print(\"Step \" + str(step) + \", Train Loss= \" + \\\n",
    "                  \"{:.4f}\".format(loss_train) + \", Training Accuracy= \" + \\\n",
    "                  \"{:.3f}\".format(acc_train) + \", Validation Loss= \" + \\\n",
    "                 \"{:.4f}\".format(loss_val) + \", Validation Accuracy= \" + \\\n",
    "                 \"{:.3f}\".format(acc_val))\n",
    "            \n",
    "            train_loss.append(loss_train)\n",
    "            val_loss.append(loss_val)\n",
    "            train_accuracy.append(acc_train)\n",
    "            val_accuracy.append(acc_val)\n",
    "            \n",
    "        if step % display_step == 0:\n",
    "            \n",
    "            tmp = val_loss[-1] - val_loss[-2]\n",
    "            if tmp > 0:\n",
    "                patience_cnt +=1\n",
    "            else:\n",
    "                if patience_cnt > 0:\n",
    "                    patience_cnt -= 1\n",
    "\n",
    "            \n",
    "            if patience_cnt > tol:\n",
    "                print \"Early stopping since validation loss is not decreasing\"\n",
    "                break             \n",
    "    \n",
    "    print (\"optimization done!\")\n",
    "    \n",
    "    acc_test = sess.run(accuracy, feed_dict={x: test_data, y: test_labels, keep_prob: 1.0})\n",
    "    print\n",
    "    print \"Testing accuracy: \", acc_test\n",
    "    \n",
    "    saver.save(sess, \"./my_CNN_model\")\n",
    "               "
   ]
  },
  {
   "cell_type": "code",
   "execution_count": 471,
   "metadata": {},
   "outputs": [
    {
     "data": {
      "image/png": "[encoded data removed]",
      "text/plain": [
       "<matplotlib.figure.Figure at 0x131851cd0>"
      ]
     },
     "metadata": {},
     "output_type": "display_data"
    }
   ],
   "source": [
    "fig = plt.figure(figsize=(10,10))\n",
    "ax = fig.add_subplot(111)\n",
    "\n",
    "tmp = np.arange(1,1502,10)\n",
    "\n",
    "plt.xlabel(\"Number of Steps\", size=15)\n",
    "plt.ylabel(\"Loss\", size=15)\n",
    "plt.title(\"Plot of Loss vs Number of Steps\", size=15)\n",
    "\n",
    "ax.plot(tmp, train_loss, 'b', label=\"Training Loss\", linewidth=2.5)\n",
    "ax.plot(tmp, val_loss, 'r', label=\"Validation Loss\", linewidth=2.5)\n",
    "plt.xticks(fontsize=12)\n",
    "plt.yticks(fontsize=12)\n",
    "ax.xaxis.labelpad=10\n",
    "ax.yaxis.labelpad=10\n",
    "plt.legend(loc='best',prop={'size':15})\n",
    "plt.grid(True)\n",
    "plt.show()"
   ]
  },
  {
   "cell_type": "code",
   "execution_count": 482,
   "metadata": {},
   "outputs": [
    {
     "data": {
      "image/png": "[encoded data removed]",
      "text/plain": [
       "<matplotlib.figure.Figure at 0x17ad9d5d0>"
      ]
     },
     "metadata": {},
     "output_type": "display_data"
    }
   ],
   "source": [
    "fig = plt.figure(figsize=(10,10))\n",
    "ax = fig.add_subplot(111)\n",
    "\n",
    "tmp = np.arange(1,1502,10)\n",
    "\n",
    "plt.xlabel(\"Number of Steps\", size=15)\n",
    "plt.ylabel(\"Accuracy\", size=15)\n",
    "plt.title(\"Plot of Accuracy vs Number of Steps\", size=15)\n",
    "\n",
    "ax.plot(tmp, train_accuracy, 'b', label=\"Training Accuracy\", linewidth=2.5)\n",
    "ax.plot(tmp, val_accuracy, 'r', label=\"Validation Accuracy\", linewidth=2.5)\n",
    "ax.axhline(y=acc_test, color='g', linewidth=2.5, label='Test accuracy')\n",
    "\n",
    "trans = transforms.blended_transform_factory(\n",
    "    ax.get_yticklabels()[0].get_transform(), ax.transData)\n",
    "ax.text(0, acc_test, \"{:.4f}\".format(acc_test), color=\"g\", transform=trans, \n",
    "        ha=\"right\", va=\"center\", size=12)\n",
    "\n",
    "plt.xticks(fontsize=12)\n",
    "plt.yticks(fontsize=12)\n",
    "ax.xaxis.labelpad=10\n",
    "ax.yaxis.labelpad=10\n",
    "plt.legend(loc='best',prop={'size':15})\n",
    "plt.grid(True)\n",
    "plt.show()"
   ]
  }
 ],
 "metadata": {
  "kernelspec": {
   "display_name": "Python 2",
   "language": "python",
   "name": "python2"
  },
  "language_info": {
   "codemirror_mode": {
    "name": "ipython",
    "version": 2
   },
   "file_extension": ".py",
   "mimetype": "text/x-python",
   "name": "python",
   "nbconvert_exporter": "python",
   "pygments_lexer": "ipython2",
   "version": "2.7.14"
  }
 },
 "nbformat": 4,
 "nbformat_minor": 2
}
